{
  "nbformat": 4,
  "nbformat_minor": 0,
  "metadata": {
    "colab": {
      "name": "Untitled0.ipynb",
      "provenance": []
    },
    "kernelspec": {
      "name": "python3",
      "display_name": "Python 3"
    },
    "language_info": {
      "name": "python"
    }
  },
  "cells": [
    {
      "cell_type": "code",
      "execution_count": null,
      "metadata": {
        "id": "rm2Psapc2fI6"
      },
      "outputs": [],
      "source": [
        "# Python program to translate\n",
        "# speech to text and text to speech\n",
        "\n",
        "\n",
        "import speech_recognition as sr\n",
        "import pyttsx3\n",
        "\n",
        "# Initialize the recognizer\n",
        "r = sr.Recognizer()\n",
        "\n",
        "# Function to convert text to\n",
        "# speech\n",
        "def SpeakText(command):\n",
        "\t\n",
        "\t# Initialize the engine\n",
        "\tengine = pyttsx3.init()\n",
        "\tengine.say(command)\n",
        "\tengine.runAndWait()\n",
        "\t\n",
        "\t\n",
        "# Loop infinitely for user to\n",
        "# speak\n",
        "\n",
        "while(1):\n",
        "\t\n",
        "\t# Exception handling to handle\n",
        "\t# exceptions at the runtime\n",
        "\ttry:\n",
        "\t\t\n",
        "\t\t# use the microphone as source for input.\n",
        "\t\twith sr.Microphone() as source2:\n",
        "\t\t\t\n",
        "\t\t\t# wait for a second to let the recognizer\n",
        "\t\t\t# adjust the energy threshold based on\n",
        "\t\t\t# the surrounding noise level\n",
        "\t\t\tr.adjust_for_ambient_noise(source2, duration=0.2)\n",
        "\t\t\t\n",
        "\t\t\t#listens for the user's input\n",
        "\t\t\taudio2 = r.listen(source2)\n",
        "\t\t\t\n",
        "\t\t\t# Using google to recognize audio\n",
        "\t\t\tMyText = r.recognize_google(audio2)\n",
        "\t\t\tMyText = MyText.lower()\n",
        "\n",
        "\t\t\tprint(\"Did you say \"+MyText)\n",
        "\t\t\tSpeakText(MyText)\n",
        "\t\t\t\n",
        "\texcept sr.RequestError as e:\n",
        "\t\tprint(\"Could not request results; {0}\".format(e))\n",
        "\t\t\n",
        "\texcept sr.UnknownValueError:\n",
        "\t\tprint(\"unknown error occured\")\n"
      ]
    }
  ]
}